{
 "cells": [
  {
   "cell_type": "code",
   "execution_count": 1,
   "metadata": {},
   "outputs": [
    {
     "data": {
      "text/plain": [
       "0.004991680532445923"
      ]
     },
     "execution_count": 1,
     "metadata": {},
     "output_type": "execute_result"
    }
   ],
   "source": [
    "# Байесовский подход\n",
    "\n",
    "# Данные конкурента\n",
    "total_prototypes_competitor = 1000\n",
    "successful_prototypes_competitor = 5\n",
    "\n",
    "# Данные нашей компании\n",
    "total_prototypes_our = 200\n",
    "successful_prototypes_our = 0\n",
    "\n",
    "# Априорная вероятность успеха (исходя из данных конкурента)\n",
    "alpha_prior = successful_prototypes_competitor + 1\n",
    "beta_prior = total_prototypes_competitor - successful_prototypes_competitor + 1\n",
    "\n",
    "# Обновление априорной вероятности с учетом наших данных\n",
    "alpha_posterior = alpha_prior + successful_prototypes_our\n",
    "beta_posterior = beta_prior + total_prototypes_our - successful_prototypes_our\n",
    "\n",
    "# Оценка апостериорной вероятности успеха следующего прототипа\n",
    "posterior_mean = alpha_posterior / (alpha_posterior + beta_posterior)\n",
    "\n",
    "posterior_mean"
   ]
  },
  {
   "cell_type": "code",
   "execution_count": 2,
   "metadata": {},
   "outputs": [
    {
     "data": {
      "text/plain": [
       "0.005"
      ]
     },
     "execution_count": 2,
     "metadata": {},
     "output_type": "execute_result"
    }
   ],
   "source": [
    "# Метод максимального правдоподобия\n",
    "\n",
    "# Оценка параметра вероятности успеха прототипа (p) для конкурента\n",
    "p_estimate = successful_prototypes_competitor / total_prototypes_competitor\n",
    "\n",
    "p_estimate"
   ]
  },
  {
   "cell_type": "code",
   "execution_count": 4,
   "metadata": {},
   "outputs": [
    {
     "data": {
      "text/plain": [
       "0.005022"
      ]
     },
     "execution_count": 4,
     "metadata": {},
     "output_type": "execute_result"
    }
   ],
   "source": [
    "# Монте-Карло симуляция\n",
    "\n",
    "import numpy as np\n",
    "\n",
    "# Параметры симуляции\n",
    "p_success = 0.005  # Вероятность успеха прототипа, оцененная ранее\n",
    "n_simulations = 1000000  # Количество симуляций\n",
    "\n",
    "# Генерация случайных исходов\n",
    "np.random.seed(0)  # Установка случайного зерна для воспроизводимости результатов\n",
    "successes = np.random.binomial(1, p_success, n_simulations)\n",
    "\n",
    "# Расчет вероятности успеха следующего прототипа\n",
    "probability_of_success = np.mean(successes)\n",
    "probability_of_success"
   ]
  },
  {
   "cell_type": "code",
   "execution_count": 3,
   "metadata": {},
   "outputs": [
    {
     "name": "stdout",
     "output_type": "stream",
     "text": [
      "Accuracy of the logistic regression model: 0.517\n"
     ]
    }
   ],
   "source": [
    "import numpy as np\n",
    "import pandas as pd\n",
    "from sklearn.model_selection import train_test_split\n",
    "from sklearn.linear_model import LogisticRegression\n",
    "from sklearn.metrics import accuracy_score\n",
    "from sklearn.preprocessing import StandardScaler, OneHotEncoder\n",
    "\n",
    "# Генерация фиктивных данных\n",
    "np.random.seed(0)\n",
    "n_samples = 200\n",
    "data = {\n",
    "    \"genre\": np.random.choice([\"action\", \"strategy\", \"puzzle\", \"adventure\", \"simulation\"], n_samples),\n",
    "    \"team_size\": np.random.randint(1, 20, n_samples),\n",
    "    \"development_time\": np.random.randint(1, 24, n_samples),\n",
    "    \"budget\": np.random.uniform(0.5, 20.0, n_samples),\n",
    "    \"early_feedback\": np.random.randint(1, 11, n_samples),\n",
    "    \"success\": np.random.randint(0, 2, n_samples)\n",
    "}\n",
    "\n",
    "df = pd.DataFrame(data)\n",
    "\n",
    "# Преобразование категориальных данных в числовые\n",
    "encoder = OneHotEncoder(sparse_output=False)\n",
    "genre_encoded = encoder.fit_transform(df[['genre']])\n",
    "\n",
    "# Создание нового DataFrame с преобразованными данными\n",
    "encoded_df = pd.DataFrame(genre_encoded, columns=encoder.get_feature_names_out(['genre']))\n",
    "df_encoded = pd.concat([df.drop('genre', axis=1), encoded_df], axis=1)\n",
    "\n",
    "# Разделение данных на признаки и целевую переменную\n",
    "X = df_encoded.drop('success', axis=1)\n",
    "y = df_encoded['success']\n",
    "\n",
    "# Разделение данных на обучающую и тестовую выборки\n",
    "X_train, X_test, y_train, y_test = train_test_split(X, y, test_size=0.3, random_state=0)\n",
    "\n",
    "# Масштабирование признаков\n",
    "scaler = StandardScaler()\n",
    "X_train_scaled = scaler.fit_transform(X_train)\n",
    "X_test_scaled = scaler.transform(X_test)\n",
    "\n",
    "# Обучение модели логистической регрессии\n",
    "model = LogisticRegression(random_state=0)\n",
    "model.fit(X_train_scaled, y_train)\n",
    "\n",
    "# Проверка точности модели на тестовых данных\n",
    "y_pred = model.predict(X_test_scaled)\n",
    "accuracy = accuracy_score(y_test, y_pred)\n",
    "\n",
    "# Вывод результатов\n",
    "print(f\"Accuracy of the logistic regression model: {accuracy:.3f}\")"
   ]
  }
 ],
 "metadata": {
  "kernelspec": {
   "display_name": "Python 3",
   "language": "python",
   "name": "python3"
  },
  "language_info": {
   "codemirror_mode": {
    "name": "ipython",
    "version": 3
   },
   "file_extension": ".py",
   "mimetype": "text/x-python",
   "name": "python",
   "nbconvert_exporter": "python",
   "pygments_lexer": "ipython3",
   "version": "3.11.4"
  }
 },
 "nbformat": 4,
 "nbformat_minor": 2
}

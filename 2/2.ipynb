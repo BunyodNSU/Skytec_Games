{
 "cells": [
  {
   "cell_type": "code",
   "execution_count": 6,
   "metadata": {},
   "outputs": [
    {
     "name": "stdout",
     "output_type": "stream",
     "text": [
      "Sample Size per Group: 14748.045020841952\n",
      "Total Sample Size: 29496.090041683903\n",
      "Experiment Duration (days): 294.960900416839\n"
     ]
    }
   ],
   "source": [
    "import scipy.stats as stats\n",
    "import numpy as np\n",
    "\n",
    "# Исходные параметры\n",
    "baseline_conversion = 0.1  # Текущий процент плательщиков\n",
    "expected_conversion = 0.11  # Ожидаемый процент плательщиков\n",
    "alpha = 0.05  # Уровень значимости\n",
    "power = 0.80  # Мощность\n",
    "daily_new_players = 100  # Количество новых игроков в день\n",
    "\n",
    "# Расчет стандартного отклонения для двух пропорций\n",
    "std_dev = np.sqrt(baseline_conversion * (1 - baseline_conversion) +\n",
    "                  expected_conversion * (1 - expected_conversion))\n",
    "\n",
    "# Расчет размера выборки для каждой группы\n",
    "effect_size = (stats.norm.ppf(1 - alpha/2) + stats.norm.ppf(power)) * std_dev\n",
    "sample_size_per_group = (effect_size**2) / ((expected_conversion - baseline_conversion)**2)\n",
    "\n",
    "# Расчет общего размера выборки и длительности эксперимента\n",
    "total_sample_size = sample_size_per_group * 2  # Для двух групп\n",
    "experiment_duration = total_sample_size / daily_new_players\n",
    "\n",
    "print(f\"Sample Size per Group: {sample_size_per_group}\")\n",
    "print(f\"Total Sample Size: {total_sample_size}\")\n",
    "print(f\"Experiment Duration (days): {experiment_duration}\")"
   ]
  },
  {
   "cell_type": "code",
   "execution_count": 9,
   "metadata": {},
   "outputs": [
    {
     "data": {
      "text/plain": [
       "((0.09853333333333333,\n",
       "  (0.093763717919026, 0.10330294874764066),\n",
       "  (0.09376387690885635, 0.10330278975781032)),\n",
       " [{'Experiment': 1,\n",
       "   'Mean': 0.0928,\n",
       "   'Frequentist 95% CI': (0.08815653210323636, 0.09744346789676363),\n",
       "   'Bayesian 95% CI': (0.08815668688807939, 0.0974433131119206),\n",
       "   'T-Statistic': 1.6881047176927513,\n",
       "   'P-Value': 0.09140152364159299,\n",
       "   'Effect Size': -0.00573333333333334},\n",
       "  {'Experiment': 2,\n",
       "   'Mean': 0.1086,\n",
       "   'Frequentist 95% CI': (0.10362070145724356, 0.11357929854275645),\n",
       "   'Bayesian 95% CI': (0.10362086743662802, 0.11357913256337199),\n",
       "   'T-Statistic': -2.8614891833740193,\n",
       "   'P-Value': 0.004219474014611251,\n",
       "   'Effect Size': 0.010066666666666668},\n",
       "  {'Experiment': 3,\n",
       "   'Mean': 0.09546666666666667,\n",
       "   'Frequentist 95% CI': (0.09076388186654444, 0.1001694514667889),\n",
       "   'Bayesian 95% CI': (0.09076403862865053, 0.10016929470468282),\n",
       "   'T-Statistic': 0.8973436911080782,\n",
       "   'P-Value': 0.3695427508358543,\n",
       "   'Effect Size': -0.003066666666666662}])"
      ]
     },
     "execution_count": 9,
     "metadata": {},
     "output_type": "execute_result"
    }
   ],
   "source": [
    "from scipy.stats import norm, ttest_ind, bayes_mvs\n",
    "\n",
    "# Установка сида для воспроизводимости\n",
    "np.random.seed(0)\n",
    "\n",
    "# Генерация контрольной группы\n",
    "control_group_size = 15000\n",
    "control_conversion_rate = 0.1\n",
    "control_group = np.random.binomial(1, control_conversion_rate, control_group_size)\n",
    "\n",
    "# Генерация экспериментальных групп\n",
    "experimental_group_sizes = [15000, 15000, 15000]\n",
    "experimental_conversion_rates = [0.09, 0.11, 0.1]  # Хуже, лучше, без эффекта\n",
    "experimental_groups = [np.random.binomial(1, rate, size) for rate, size in zip(experimental_conversion_rates, experimental_group_sizes)]\n",
    "\n",
    "# Расчет средних и стандартных отклонений\n",
    "control_mean = np.mean(control_group)\n",
    "control_std = np.std(control_group, ddof=1)\n",
    "\n",
    "# Расчет доверительных интервалов (Frequentist и Bayesian) для контрольной группы\n",
    "control_conf_interval_freq = norm.interval(0.95, loc=control_mean, scale=control_std/np.sqrt(control_group_size))\n",
    "control_conf_interval_bayes = bayes_mvs(control_group, alpha=0.95)[0][1]\n",
    "\n",
    "# Анализ экспериментальных групп\n",
    "experimental_results = []\n",
    "\n",
    "for i, exp_group in enumerate(experimental_groups):\n",
    "    exp_mean = np.mean(exp_group)\n",
    "    exp_std = np.std(exp_group, ddof=1)\n",
    "    exp_size = experimental_group_sizes[i]\n",
    "\n",
    "    # Frequentist доверительный интервал\n",
    "    exp_conf_interval_freq = norm.interval(0.95, loc=exp_mean, scale=exp_std/np.sqrt(exp_size))\n",
    "    \n",
    "    # Bayesian доверительный интервал\n",
    "    exp_conf_interval_bayes = bayes_mvs(exp_group, alpha=0.95)[0][1]\n",
    "\n",
    "    # T-тест\n",
    "    t_stat, p_value = ttest_ind(control_group, exp_group)\n",
    "\n",
    "    # Расчет эффекта\n",
    "    effect_size = exp_mean - control_mean\n",
    "\n",
    "    experimental_results.append({\n",
    "        \"Experiment\": i+1,\n",
    "        \"Mean\": exp_mean,\n",
    "        \"Frequentist 95% CI\": exp_conf_interval_freq,\n",
    "        \"Bayesian 95% CI\": exp_conf_interval_bayes,\n",
    "        \"T-Statistic\": t_stat,\n",
    "        \"P-Value\": p_value,\n",
    "        \"Effect Size\": effect_size\n",
    "    })\n",
    "\n",
    "# Вывод результатов\n",
    "(control_mean, control_conf_interval_freq, control_conf_interval_bayes), experimental_results\n",
    "\n"
   ]
  }
 ],
 "metadata": {
  "kernelspec": {
   "display_name": "Python 3",
   "language": "python",
   "name": "python3"
  },
  "language_info": {
   "codemirror_mode": {
    "name": "ipython",
    "version": 3
   },
   "file_extension": ".py",
   "mimetype": "text/x-python",
   "name": "python",
   "nbconvert_exporter": "python",
   "pygments_lexer": "ipython3",
   "version": "3.11.4"
  }
 },
 "nbformat": 4,
 "nbformat_minor": 2
}
